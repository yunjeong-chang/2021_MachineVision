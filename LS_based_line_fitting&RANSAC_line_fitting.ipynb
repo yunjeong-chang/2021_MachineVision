{
  "nbformat": 4,
  "nbformat_minor": 0,
  "metadata": {
    "colab": {
      "name": "week6_LS-based line fitting&RANSAC line fitting.ipynb",
      "provenance": [],
      "authorship_tag": "ABX9TyNu8UP1TPXrKWaJbe4BMBwq",
      "include_colab_link": true
    },
    "kernelspec": {
      "name": "python3",
      "display_name": "Python 3"
    },
    "language_info": {
      "name": "python"
    }
  },
  "cells": [
    {
      "cell_type": "markdown",
      "metadata": {
        "id": "view-in-github",
        "colab_type": "text"
      },
      "source": [
        "<a href=\"https://colab.research.google.com/github/yunjeong-chang/2021_MachineVision/blob/main/week6_LS_based_line_fitting%26RANSAC_line_fitting.ipynb\" target=\"_parent\"><img src=\"https://colab.research.google.com/assets/colab-badge.svg\" alt=\"Open In Colab\"/></a>"
      ]
    },
    {
      "cell_type": "markdown",
      "metadata": {
        "id": "X3a90m0rRATF"
      },
      "source": [
        "# LS-based line fitting"
      ]
    },
    {
      "cell_type": "code",
      "metadata": {
        "colab": {
          "base_uri": "https://localhost:8080/",
          "height": 265
        },
        "id": "eF74H1m5RCR-",
        "outputId": "4cd9f842-5381-4bf0-a035-71ef96f5538b"
      },
      "source": [
        "import numpy as np\n",
        "import matplotlib.pyplot as plt\n",
        "\n",
        "def f(x,a,b):\n",
        "  return a*x+b\n",
        "\n",
        "a, b = -1.5, 5\n",
        "x = np.linspace(-10, 10, 20)\n",
        "y = f(x,a,b)\n",
        "xn = x + 0.5*np.random.normal(size=len(x))\n",
        "yn = y + 0.5*np.random.normal(size=len(y))\n",
        "\n",
        "An = np.vstack([xn, np.ones(len(xn))]).T\n",
        "abn = np.dot(np.linalg.inv(np.dot(An.T, An)), np.dot(An.T, yn))\n",
        "#abn = np.polyfit(xn, yn, 1)\n",
        "\n",
        "plt.plot(xn, yn, 'or')\n",
        "plt.plot(x, f(x,abn[0],abn[1]), '-b')\n",
        "plt.gca().set_aspect('equal')\n",
        "plt.show()"
      ],
      "execution_count": 2,
      "outputs": [
        {
          "output_type": "display_data",
          "data": {
            "image/png": "[encoded data removed]",
            "text/plain": [
              "<Figure size 432x288 with 1 Axes>"
            ]
          },
          "metadata": {
            "needs_background": "light"
          }
        }
      ]
    },
    {
      "cell_type": "markdown",
      "metadata": {
        "id": "-c9xTyFnRCtC"
      },
      "source": [
        "# RANSAC line fitting"
      ]
    },
    {
      "cell_type": "code",
      "metadata": {
        "id": "vokDhAU9RESq"
      },
      "source": [
        "import numpy as np\n",
        "import matplotlib.pyplot as plt\n",
        "\n",
        "def f(x,a,b):\n",
        "  return a*x+b\n",
        "\n",
        "def ransac_line_fiting(x,y,r,t):\n",
        "  iter = np.round(np.log(1-0.999) / np.log(1-(1-r)**2) + 1)\n",
        "  num_max = 0\n",
        "  for i in np.arange(iter):\n",
        "    id = np.random.permutation(len(x))\n",
        "    xs = x[id[:2]]\n",
        "    ys = y[id[:2]]\n",
        "    A = np.vstack([xs, np.ones(len(xs))]).T\n",
        "    ab = np.dot(np.linalg.inv(np.dot(A.T, A)), np.dot(A.T, ys))\n",
        "    dist = np.abs(ab[0]*x-y+ab[1])/np.sqrt(ab[0]**2+1)\n",
        "    numInliers = sum(dist < t)\n",
        "    if numInliers > num_max:\n",
        "      ab_max = ab\n",
        "      num_max = numInliers\n",
        "  return ab_max, num_max"
      ],
      "execution_count": 3,
      "outputs": []
    },
    {
      "cell_type": "code",
      "metadata": {
        "colab": {
          "base_uri": "https://localhost:8080/",
          "height": 265
        },
        "id": "aINrI4I6S5mb",
        "outputId": "c3c4c8d3-a191-48ca-c83e-90dafdfa4bd1"
      },
      "source": [
        "a, b = -1.5, 5\n",
        "x = np.linspace(-10, 10, 20)\n",
        "y = f(x,a,b)\n",
        "xn = x + 0.5*np.random.normal(size=len(x))\n",
        "yn = y + 0.5*np.random.normal(size=len(y))\n",
        "xo = 10*np.random.normal(size=len(x))\n",
        "yo = 10*np.random.normal(size=len(x))\n",
        "\n",
        "xno = np.concatenate((xn,xo))\n",
        "yno = np.concatenate((yn,yo))\n",
        "\n",
        "abno, max = ransac_line_fiting(xno,yno,0.5,2)\n",
        "\n",
        "plt.plot(xn, yn, 'or')\n",
        "plt.plot(xo, yo, 'og')\n",
        "plt.plot(x, f(x,abno[0],abno[1]), '-b')\n",
        "plt.gca().set_aspect('equal')\n",
        "plt.show()"
      ],
      "execution_count": 4,
      "outputs": [
        {
          "output_type": "display_data",
          "data": {
            "image/png": "[encoded data removed]",
            "text/plain": [
              "<Figure size 432x288 with 1 Axes>"
            ]
          },
          "metadata": {
            "needs_background": "light"
          }
        }
      ]
    }
  ]
}
