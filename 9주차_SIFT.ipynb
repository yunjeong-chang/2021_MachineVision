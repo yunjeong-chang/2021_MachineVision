{
  "nbformat": 4,
  "nbformat_minor": 0,
  "metadata": {
    "colab": {
      "name": "9주차_SIFT.ipynb",
      "provenance": [],
      "mount_file_id": "1f-qq_AFJs9YEIq8aLb7bb9cq0cU5PoPl",
      "authorship_tag": "ABX9TyO66cD7a9jY4+bm9mqLfPsx",
      "include_colab_link": true
    },
    "kernelspec": {
      "name": "python3",
      "display_name": "Python 3"
    },
    "language_info": {
      "name": "python"
    }
  },
  "cells": [
    {
      "cell_type": "markdown",
      "metadata": {
        "id": "view-in-github",
        "colab_type": "text"
      },
      "source": [
        "<a href=\"https://colab.research.google.com/github/yunjeong-chang/2021_MachineVision/blob/main/9%EC%A3%BC%EC%B0%A8_SIFT.ipynb\" target=\"_parent\"><img src=\"https://colab.research.google.com/assets/colab-badge.svg\" alt=\"Open In Colab\"/></a>"
      ]
    },
    {
      "cell_type": "markdown",
      "metadata": {
        "id": "XiJC9lbLKZuw"
      },
      "source": [
        "# SIFT-based blob detector\n"
      ]
    },
    {
      "cell_type": "code",
      "metadata": {
        "id": "x0X9mC4MKGaS"
      },
      "source": [
        "import numpy as np\n",
        "import cv2 as cv\n",
        "from google.colab.patches import cv_imshow\n",
        "import subprocess\n",
        "subprocess.call(\"pip install -U opencv-python\".split())\n",
        "\n",
        "img = cv.imread('/content/drive/MyDrive/MachineVision/samples/home.jpg')\n",
        "gray= cv.cvtColor(img,cv.COLOR_BGR2GRAY)\n",
        "\n",
        "sift = cv.SIFT_create()\n",
        "kp = sift.detect(gray,None)\n",
        "\n",
        "img=cv.drawKeypoints(gray,kp,img,flags=cv.DRAW_MATCHES_FLAGS_DRAW_RICH_KEYPOINTS)\n",
        "cv_imshow(img)"
      ],
      "execution_count": null,
      "outputs": []
    },
    {
      "cell_type": "markdown",
      "metadata": {
        "id": "MgbG7ZQHKbAP"
      },
      "source": [
        "# SIFT-based local descriptor"
      ]
    },
    {
      "cell_type": "code",
      "metadata": {
        "id": "7bg10pbxKRHR"
      },
      "source": [
        "import numpy as np\n",
        "import cv2 as cv\n",
        "from google.colab.patches import cv_imshow\n",
        "import subprocess\n",
        "subprocess.call(\"pip install -U opencv-python\".split())\n",
        "\n",
        "img1 = cv.imread('/content/drive/MyDrive/MachineVision/samples/box.png',cv.IMREAD_GRAYSCALE)\n",
        "#img1 = cv.resize(cv.rotate(img1,cv.ROTATE_90_CLOCKWISE),dsize=(0, 0),fx=1.3,fy=1.3)\n",
        "img2 = cv.imread('/content/drive/MyDrive/MachineVision/samples/box_in_scene.png',cv.IMREAD_GRAYSCALE)\n",
        "\n",
        "# find the keypoints and descriptors\n",
        "sift = cv.SIFT_create()\n",
        "kp1, des1 = sift.detectAndCompute(img1,None)\n",
        "kp2, des2 = sift.detectAndCompute(img2,None)\n",
        "\n",
        "# Match descriptors.\n",
        "bf = cv.BFMatcher()\n",
        "matches = bf.match(des1,des2)\n",
        "# Sort them in the order of their distance.\n",
        "matches = sorted(matches, key = lambda x:x.distance)\n",
        "# Draw first 15 matches.\n",
        "img3 = cv.drawMatches(img1, kp1, img2, kp2, matches[:15], None,\n",
        "flags=cv.DrawMatchesFlags_NOT_DRAW_SINGLE_POINTS)\n",
        "\n",
        "cv_imshow(img3)"
      ],
      "execution_count": null,
      "outputs": []
    }
  ]
}